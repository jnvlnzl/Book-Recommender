{
 "cells": [
  {
   "cell_type": "code",
   "execution_count": null,
   "metadata": {
    "colab": {
     "base_uri": "https://localhost:8080/"
    },
    "collapsed": true,
    "executionInfo": {
     "elapsed": 120869,
     "status": "ok",
     "timestamp": 1741664634534,
     "user": {
      "displayName": "Jana Valenzuela",
      "userId": "18136291129253590497"
     },
     "user_tz": -480
    },
    "id": "iWw0RErOAqC2",
    "outputId": "86980cd3-dbc0-45ac-eb2e-2536f12ba53c",
    "vscode": {
     "languageId": "r"
    }
   },
   "outputs": [],
   "source": [
    "install.packages(\"recommenderlab\", repos=\"https://cloud.r-project.org/\")"
   ]
  },
  {
   "cell_type": "code",
   "execution_count": null,
   "metadata": {
    "id": "-vTOcw_Y7bpu",
    "vscode": {
     "languageId": "r"
    }
   },
   "outputs": [],
   "source": [
    "library(recommenderlab)\n",
    "library(ggplot2)\n",
    "library(dplyr)\n",
    "library(data.table)\n",
    "library(tibble)\n",
    "library(tidyr)"
   ]
  },
  {
   "cell_type": "markdown",
   "metadata": {
    "id": "gAVEaT28BgIF"
   },
   "source": [
    "## Load Datasets"
   ]
  },
  {
   "cell_type": "code",
   "execution_count": 3,
   "metadata": {
    "colab": {
     "base_uri": "https://localhost:8080/",
     "height": 705
    },
    "executionInfo": {
     "elapsed": 2777,
     "status": "ok",
     "timestamp": 1741664712315,
     "user": {
      "displayName": "Jana Valenzuela",
      "userId": "18136291129253590497"
     },
     "user_tz": -480
    },
    "id": "RRTQvP0BBhs4",
    "outputId": "d8edbc5b-7960-48e9-c37c-22b4eb408226",
    "vscode": {
     "languageId": "r"
    }
   },
   "outputs": [
    {
     "data": {
      "text/html": [
       "<table class=\"dataframe\">\n",
       "<caption>A data.table: 6 × 8</caption>\n",
       "<thead>\n",
       "\t<tr><th scope=col>ISBN</th><th scope=col>Book-Title</th><th scope=col>Book-Author</th><th scope=col>Year-Of-Publication</th><th scope=col>Publisher</th><th scope=col>Image-URL-S</th><th scope=col>Image-URL-M</th><th scope=col>Image-URL-L</th></tr>\n",
       "\t<tr><th scope=col>&lt;chr&gt;</th><th scope=col>&lt;chr&gt;</th><th scope=col>&lt;chr&gt;</th><th scope=col>&lt;chr&gt;</th><th scope=col>&lt;chr&gt;</th><th scope=col>&lt;chr&gt;</th><th scope=col>&lt;chr&gt;</th><th scope=col>&lt;chr&gt;</th></tr>\n",
       "</thead>\n",
       "<tbody>\n",
       "\t<tr><td>0195153448</td><td>Classical Mythology                                                                               </td><td>Mark P. O. Morford  </td><td>2002</td><td>Oxford University Press   </td><td>http://images.amazon.com/images/P/0195153448.01.THUMBZZZ.jpg</td><td>http://images.amazon.com/images/P/0195153448.01.MZZZZZZZ.jpg</td><td>http://images.amazon.com/images/P/0195153448.01.LZZZZZZZ.jpg</td></tr>\n",
       "\t<tr><td>0002005018</td><td>Clara Callan                                                                                      </td><td>Richard Bruce Wright</td><td>2001</td><td>HarperFlamingo Canada     </td><td>http://images.amazon.com/images/P/0002005018.01.THUMBZZZ.jpg</td><td>http://images.amazon.com/images/P/0002005018.01.MZZZZZZZ.jpg</td><td>http://images.amazon.com/images/P/0002005018.01.LZZZZZZZ.jpg</td></tr>\n",
       "\t<tr><td>0060973129</td><td>Decision in Normandy                                                                              </td><td>Carlo D'Este        </td><td>1991</td><td>HarperPerennial           </td><td>http://images.amazon.com/images/P/0060973129.01.THUMBZZZ.jpg</td><td>http://images.amazon.com/images/P/0060973129.01.MZZZZZZZ.jpg</td><td>http://images.amazon.com/images/P/0060973129.01.LZZZZZZZ.jpg</td></tr>\n",
       "\t<tr><td>0374157065</td><td>Flu: The Story of the Great Influenza Pandemic of 1918 and the Search for the Virus That Caused It</td><td>Gina Bari Kolata    </td><td>1999</td><td>Farrar Straus Giroux      </td><td>http://images.amazon.com/images/P/0374157065.01.THUMBZZZ.jpg</td><td>http://images.amazon.com/images/P/0374157065.01.MZZZZZZZ.jpg</td><td>http://images.amazon.com/images/P/0374157065.01.LZZZZZZZ.jpg</td></tr>\n",
       "\t<tr><td>0393045218</td><td><span style=white-space:pre-wrap>The Mummies of Urumchi                                                                            </span></td><td><span style=white-space:pre-wrap>E. J. W. Barber     </span></td><td>1999</td><td>W. W. Norton &amp;amp; Company</td><td>http://images.amazon.com/images/P/0393045218.01.THUMBZZZ.jpg</td><td>http://images.amazon.com/images/P/0393045218.01.MZZZZZZZ.jpg</td><td>http://images.amazon.com/images/P/0393045218.01.LZZZZZZZ.jpg</td></tr>\n",
       "\t<tr><td>0399135782</td><td>The Kitchen God's Wife                                                                            </td><td>Amy Tan             </td><td>1991</td><td>Putnam Pub Group          </td><td>http://images.amazon.com/images/P/0399135782.01.THUMBZZZ.jpg</td><td>http://images.amazon.com/images/P/0399135782.01.MZZZZZZZ.jpg</td><td>http://images.amazon.com/images/P/0399135782.01.LZZZZZZZ.jpg</td></tr>\n",
       "</tbody>\n",
       "</table>\n"
      ],
      "text/latex": [
       "A data.table: 6 × 8\n",
       "\\begin{tabular}{llllllll}\n",
       " ISBN & Book-Title & Book-Author & Year-Of-Publication & Publisher & Image-URL-S & Image-URL-M & Image-URL-L\\\\\n",
       " <chr> & <chr> & <chr> & <chr> & <chr> & <chr> & <chr> & <chr>\\\\\n",
       "\\hline\n",
       "\t 0195153448 & Classical Mythology                                                                                & Mark P. O. Morford   & 2002 & Oxford University Press    & http://images.amazon.com/images/P/0195153448.01.THUMBZZZ.jpg & http://images.amazon.com/images/P/0195153448.01.MZZZZZZZ.jpg & http://images.amazon.com/images/P/0195153448.01.LZZZZZZZ.jpg\\\\\n",
       "\t 0002005018 & Clara Callan                                                                                       & Richard Bruce Wright & 2001 & HarperFlamingo Canada      & http://images.amazon.com/images/P/0002005018.01.THUMBZZZ.jpg & http://images.amazon.com/images/P/0002005018.01.MZZZZZZZ.jpg & http://images.amazon.com/images/P/0002005018.01.LZZZZZZZ.jpg\\\\\n",
       "\t 0060973129 & Decision in Normandy                                                                               & Carlo D'Este         & 1991 & HarperPerennial            & http://images.amazon.com/images/P/0060973129.01.THUMBZZZ.jpg & http://images.amazon.com/images/P/0060973129.01.MZZZZZZZ.jpg & http://images.amazon.com/images/P/0060973129.01.LZZZZZZZ.jpg\\\\\n",
       "\t 0374157065 & Flu: The Story of the Great Influenza Pandemic of 1918 and the Search for the Virus That Caused It & Gina Bari Kolata     & 1999 & Farrar Straus Giroux       & http://images.amazon.com/images/P/0374157065.01.THUMBZZZ.jpg & http://images.amazon.com/images/P/0374157065.01.MZZZZZZZ.jpg & http://images.amazon.com/images/P/0374157065.01.LZZZZZZZ.jpg\\\\\n",
       "\t 0393045218 & The Mummies of Urumchi                                                                             & E. J. W. Barber      & 1999 & W. W. Norton \\&amp; Company & http://images.amazon.com/images/P/0393045218.01.THUMBZZZ.jpg & http://images.amazon.com/images/P/0393045218.01.MZZZZZZZ.jpg & http://images.amazon.com/images/P/0393045218.01.LZZZZZZZ.jpg\\\\\n",
       "\t 0399135782 & The Kitchen God's Wife                                                                             & Amy Tan              & 1991 & Putnam Pub Group           & http://images.amazon.com/images/P/0399135782.01.THUMBZZZ.jpg & http://images.amazon.com/images/P/0399135782.01.MZZZZZZZ.jpg & http://images.amazon.com/images/P/0399135782.01.LZZZZZZZ.jpg\\\\\n",
       "\\end{tabular}\n"
      ],
      "text/markdown": [
       "\n",
       "A data.table: 6 × 8\n",
       "\n",
       "| ISBN &lt;chr&gt; | Book-Title &lt;chr&gt; | Book-Author &lt;chr&gt; | Year-Of-Publication &lt;chr&gt; | Publisher &lt;chr&gt; | Image-URL-S &lt;chr&gt; | Image-URL-M &lt;chr&gt; | Image-URL-L &lt;chr&gt; |\n",
       "|---|---|---|---|---|---|---|---|\n",
       "| 0195153448 | Classical Mythology                                                                                | Mark P. O. Morford   | 2002 | Oxford University Press    | http://images.amazon.com/images/P/0195153448.01.THUMBZZZ.jpg | http://images.amazon.com/images/P/0195153448.01.MZZZZZZZ.jpg | http://images.amazon.com/images/P/0195153448.01.LZZZZZZZ.jpg |\n",
       "| 0002005018 | Clara Callan                                                                                       | Richard Bruce Wright | 2001 | HarperFlamingo Canada      | http://images.amazon.com/images/P/0002005018.01.THUMBZZZ.jpg | http://images.amazon.com/images/P/0002005018.01.MZZZZZZZ.jpg | http://images.amazon.com/images/P/0002005018.01.LZZZZZZZ.jpg |\n",
       "| 0060973129 | Decision in Normandy                                                                               | Carlo D'Este         | 1991 | HarperPerennial            | http://images.amazon.com/images/P/0060973129.01.THUMBZZZ.jpg | http://images.amazon.com/images/P/0060973129.01.MZZZZZZZ.jpg | http://images.amazon.com/images/P/0060973129.01.LZZZZZZZ.jpg |\n",
       "| 0374157065 | Flu: The Story of the Great Influenza Pandemic of 1918 and the Search for the Virus That Caused It | Gina Bari Kolata     | 1999 | Farrar Straus Giroux       | http://images.amazon.com/images/P/0374157065.01.THUMBZZZ.jpg | http://images.amazon.com/images/P/0374157065.01.MZZZZZZZ.jpg | http://images.amazon.com/images/P/0374157065.01.LZZZZZZZ.jpg |\n",
       "| 0393045218 | The Mummies of Urumchi                                                                             | E. J. W. Barber      | 1999 | W. W. Norton &amp;amp; Company | http://images.amazon.com/images/P/0393045218.01.THUMBZZZ.jpg | http://images.amazon.com/images/P/0393045218.01.MZZZZZZZ.jpg | http://images.amazon.com/images/P/0393045218.01.LZZZZZZZ.jpg |\n",
       "| 0399135782 | The Kitchen God's Wife                                                                             | Amy Tan              | 1991 | Putnam Pub Group           | http://images.amazon.com/images/P/0399135782.01.THUMBZZZ.jpg | http://images.amazon.com/images/P/0399135782.01.MZZZZZZZ.jpg | http://images.amazon.com/images/P/0399135782.01.LZZZZZZZ.jpg |\n",
       "\n"
      ],
      "text/plain": [
       "  ISBN      \n",
       "1 0195153448\n",
       "2 0002005018\n",
       "3 0060973129\n",
       "4 0374157065\n",
       "5 0393045218\n",
       "6 0399135782\n",
       "  Book-Title                                                                                        \n",
       "1 Classical Mythology                                                                               \n",
       "2 Clara Callan                                                                                      \n",
       "3 Decision in Normandy                                                                              \n",
       "4 Flu: The Story of the Great Influenza Pandemic of 1918 and the Search for the Virus That Caused It\n",
       "5 The Mummies of Urumchi                                                                            \n",
       "6 The Kitchen God's Wife                                                                            \n",
       "  Book-Author          Year-Of-Publication Publisher                 \n",
       "1 Mark P. O. Morford   2002                Oxford University Press   \n",
       "2 Richard Bruce Wright 2001                HarperFlamingo Canada     \n",
       "3 Carlo D'Este         1991                HarperPerennial           \n",
       "4 Gina Bari Kolata     1999                Farrar Straus Giroux      \n",
       "5 E. J. W. Barber      1999                W. W. Norton &amp; Company\n",
       "6 Amy Tan              1991                Putnam Pub Group          \n",
       "  Image-URL-S                                                 \n",
       "1 http://images.amazon.com/images/P/0195153448.01.THUMBZZZ.jpg\n",
       "2 http://images.amazon.com/images/P/0002005018.01.THUMBZZZ.jpg\n",
       "3 http://images.amazon.com/images/P/0060973129.01.THUMBZZZ.jpg\n",
       "4 http://images.amazon.com/images/P/0374157065.01.THUMBZZZ.jpg\n",
       "5 http://images.amazon.com/images/P/0393045218.01.THUMBZZZ.jpg\n",
       "6 http://images.amazon.com/images/P/0399135782.01.THUMBZZZ.jpg\n",
       "  Image-URL-M                                                 \n",
       "1 http://images.amazon.com/images/P/0195153448.01.MZZZZZZZ.jpg\n",
       "2 http://images.amazon.com/images/P/0002005018.01.MZZZZZZZ.jpg\n",
       "3 http://images.amazon.com/images/P/0060973129.01.MZZZZZZZ.jpg\n",
       "4 http://images.amazon.com/images/P/0374157065.01.MZZZZZZZ.jpg\n",
       "5 http://images.amazon.com/images/P/0393045218.01.MZZZZZZZ.jpg\n",
       "6 http://images.amazon.com/images/P/0399135782.01.MZZZZZZZ.jpg\n",
       "  Image-URL-L                                                 \n",
       "1 http://images.amazon.com/images/P/0195153448.01.LZZZZZZZ.jpg\n",
       "2 http://images.amazon.com/images/P/0002005018.01.LZZZZZZZ.jpg\n",
       "3 http://images.amazon.com/images/P/0060973129.01.LZZZZZZZ.jpg\n",
       "4 http://images.amazon.com/images/P/0374157065.01.LZZZZZZZ.jpg\n",
       "5 http://images.amazon.com/images/P/0393045218.01.LZZZZZZZ.jpg\n",
       "6 http://images.amazon.com/images/P/0399135782.01.LZZZZZZZ.jpg"
      ]
     },
     "metadata": {},
     "output_type": "display_data"
    }
   ],
   "source": [
    "books <- fread(\"books.csv\")\n",
    "head(books)"
   ]
  },
  {
   "cell_type": "code",
   "execution_count": 4,
   "metadata": {
    "colab": {
     "base_uri": "https://localhost:8080/",
     "height": 286
    },
    "executionInfo": {
     "elapsed": 1769,
     "status": "ok",
     "timestamp": 1741664715415,
     "user": {
      "displayName": "Jana Valenzuela",
      "userId": "18136291129253590497"
     },
     "user_tz": -480
    },
    "id": "hGzxTAlfHmTp",
    "outputId": "0daffb6d-01ca-4973-d34d-97005886619b",
    "vscode": {
     "languageId": "r"
    }
   },
   "outputs": [
    {
     "data": {
      "text/html": [
       "<table class=\"dataframe\">\n",
       "<caption>A data.table: 6 × 3</caption>\n",
       "<thead>\n",
       "\t<tr><th scope=col>User-ID</th><th scope=col>ISBN</th><th scope=col>Book-Rating</th></tr>\n",
       "\t<tr><th scope=col>&lt;int&gt;</th><th scope=col>&lt;chr&gt;</th><th scope=col>&lt;int&gt;</th></tr>\n",
       "</thead>\n",
       "<tbody>\n",
       "\t<tr><td>276725</td><td>034545104X</td><td>0</td></tr>\n",
       "\t<tr><td>276726</td><td>0155061224</td><td>5</td></tr>\n",
       "\t<tr><td>276727</td><td>0446520802</td><td>0</td></tr>\n",
       "\t<tr><td>276729</td><td>052165615X</td><td>3</td></tr>\n",
       "\t<tr><td>276729</td><td>0521795028</td><td>6</td></tr>\n",
       "\t<tr><td>276733</td><td>2080674722</td><td>0</td></tr>\n",
       "</tbody>\n",
       "</table>\n"
      ],
      "text/latex": [
       "A data.table: 6 × 3\n",
       "\\begin{tabular}{lll}\n",
       " User-ID & ISBN & Book-Rating\\\\\n",
       " <int> & <chr> & <int>\\\\\n",
       "\\hline\n",
       "\t 276725 & 034545104X & 0\\\\\n",
       "\t 276726 & 0155061224 & 5\\\\\n",
       "\t 276727 & 0446520802 & 0\\\\\n",
       "\t 276729 & 052165615X & 3\\\\\n",
       "\t 276729 & 0521795028 & 6\\\\\n",
       "\t 276733 & 2080674722 & 0\\\\\n",
       "\\end{tabular}\n"
      ],
      "text/markdown": [
       "\n",
       "A data.table: 6 × 3\n",
       "\n",
       "| User-ID &lt;int&gt; | ISBN &lt;chr&gt; | Book-Rating &lt;int&gt; |\n",
       "|---|---|---|\n",
       "| 276725 | 034545104X | 0 |\n",
       "| 276726 | 0155061224 | 5 |\n",
       "| 276727 | 0446520802 | 0 |\n",
       "| 276729 | 052165615X | 3 |\n",
       "| 276729 | 0521795028 | 6 |\n",
       "| 276733 | 2080674722 | 0 |\n",
       "\n"
      ],
      "text/plain": [
       "  User-ID ISBN       Book-Rating\n",
       "1 276725  034545104X 0          \n",
       "2 276726  0155061224 5          \n",
       "3 276727  0446520802 0          \n",
       "4 276729  052165615X 3          \n",
       "5 276729  0521795028 6          \n",
       "6 276733  2080674722 0          "
      ]
     },
     "metadata": {},
     "output_type": "display_data"
    }
   ],
   "source": [
    "ratings <- fread(\"ratings.csv\")\n",
    "head(ratings)"
   ]
  },
  {
   "cell_type": "code",
   "execution_count": 5,
   "metadata": {
    "colab": {
     "base_uri": "https://localhost:8080/",
     "height": 286
    },
    "executionInfo": {
     "elapsed": 164,
     "status": "ok",
     "timestamp": 1741664717168,
     "user": {
      "displayName": "Jana Valenzuela",
      "userId": "18136291129253590497"
     },
     "user_tz": -480
    },
    "id": "c0PnI2DeHoDa",
    "outputId": "fe7bdd2e-46fd-45a7-8670-b2921e19b2f8",
    "vscode": {
     "languageId": "r"
    }
   },
   "outputs": [
    {
     "data": {
      "text/html": [
       "<table class=\"dataframe\">\n",
       "<caption>A data.table: 6 × 3</caption>\n",
       "<thead>\n",
       "\t<tr><th scope=col>User-ID</th><th scope=col>Location</th><th scope=col>Age</th></tr>\n",
       "\t<tr><th scope=col>&lt;int&gt;</th><th scope=col>&lt;chr&gt;</th><th scope=col>&lt;dbl&gt;</th></tr>\n",
       "</thead>\n",
       "<tbody>\n",
       "\t<tr><td>1</td><td>nyc, new york, usa                </td><td>NA</td></tr>\n",
       "\t<tr><td>2</td><td>stockton, california, usa         </td><td>18</td></tr>\n",
       "\t<tr><td>3</td><td>moscow, yukon territory, russia   </td><td>NA</td></tr>\n",
       "\t<tr><td>4</td><td>porto, v.n.gaia, portugal         </td><td>17</td></tr>\n",
       "\t<tr><td>5</td><td>farnborough, hants, united kingdom</td><td>NA</td></tr>\n",
       "\t<tr><td>6</td><td>santa monica, california, usa     </td><td>61</td></tr>\n",
       "</tbody>\n",
       "</table>\n"
      ],
      "text/latex": [
       "A data.table: 6 × 3\n",
       "\\begin{tabular}{lll}\n",
       " User-ID & Location & Age\\\\\n",
       " <int> & <chr> & <dbl>\\\\\n",
       "\\hline\n",
       "\t 1 & nyc, new york, usa                 & NA\\\\\n",
       "\t 2 & stockton, california, usa          & 18\\\\\n",
       "\t 3 & moscow, yukon territory, russia    & NA\\\\\n",
       "\t 4 & porto, v.n.gaia, portugal          & 17\\\\\n",
       "\t 5 & farnborough, hants, united kingdom & NA\\\\\n",
       "\t 6 & santa monica, california, usa      & 61\\\\\n",
       "\\end{tabular}\n"
      ],
      "text/markdown": [
       "\n",
       "A data.table: 6 × 3\n",
       "\n",
       "| User-ID &lt;int&gt; | Location &lt;chr&gt; | Age &lt;dbl&gt; |\n",
       "|---|---|---|\n",
       "| 1 | nyc, new york, usa                 | NA |\n",
       "| 2 | stockton, california, usa          | 18 |\n",
       "| 3 | moscow, yukon territory, russia    | NA |\n",
       "| 4 | porto, v.n.gaia, portugal          | 17 |\n",
       "| 5 | farnborough, hants, united kingdom | NA |\n",
       "| 6 | santa monica, california, usa      | 61 |\n",
       "\n"
      ],
      "text/plain": [
       "  User-ID Location                           Age\n",
       "1 1       nyc, new york, usa                 NA \n",
       "2 2       stockton, california, usa          18 \n",
       "3 3       moscow, yukon territory, russia    NA \n",
       "4 4       porto, v.n.gaia, portugal          17 \n",
       "5 5       farnborough, hants, united kingdom NA \n",
       "6 6       santa monica, california, usa      61 "
      ]
     },
     "metadata": {},
     "output_type": "display_data"
    }
   ],
   "source": [
    "users <- fread(\"users.csv\")\n",
    "head(users)"
   ]
  },
  {
   "cell_type": "markdown",
   "metadata": {
    "id": "STzLebnyBmp2"
   },
   "source": [
    "## Data Preprocessing"
   ]
  },
  {
   "cell_type": "code",
   "execution_count": 6,
   "metadata": {
    "executionInfo": {
     "elapsed": 3722,
     "status": "ok",
     "timestamp": 1741664723470,
     "user": {
      "displayName": "Jana Valenzuela",
      "userId": "18136291129253590497"
     },
     "user_tz": -480
    },
    "id": "viFOI1A2ISmf",
    "vscode": {
     "languageId": "r"
    }
   },
   "outputs": [],
   "source": [
    "books$isbn_numeric <- as.numeric(factor(books$ISBN))\n",
    "ratings$isbn_numeric <- as.numeric(factor(ratings$ISBN, levels = books$ISBN))"
   ]
  },
  {
   "cell_type": "code",
   "execution_count": 7,
   "metadata": {
    "executionInfo": {
     "elapsed": 6292,
     "status": "ok",
     "timestamp": 1741664730909,
     "user": {
      "displayName": "Jana Valenzuela",
      "userId": "18136291129253590497"
     },
     "user_tz": -480
    },
    "id": "Axv0VsmGBohz",
    "vscode": {
     "languageId": "r"
    }
   },
   "outputs": [],
   "source": [
    "# Count ratings per book\n",
    "book_counts <- ratings %>% group_by(ISBN) %>% summarise(count = n())\n",
    "\n",
    "# Filter books with at least 10 ratings\n",
    "popular_books <- book_counts %>% filter(count >= 20)\n",
    "filtered_ratings <- ratings %>% filter(ISBN %in% popular_books$ISBN)\n",
    "\n",
    "filtered_ratings <- filtered_ratings %>% filter(!is.na(isbn_numeric))\n",
    "\n",
    "# Count ratings per user\n",
    "user_counts <- filtered_ratings %>% group_by(`User-ID`) %>% summarise(count = n())\n",
    "active_users <- user_counts %>% filter(count >= 10)\n",
    "\n",
    "filtered_ratings <- filtered_ratings %>% filter(`User-ID` %in% active_users$`User-ID`)"
   ]
  },
  {
   "cell_type": "code",
   "execution_count": 8,
   "metadata": {
    "colab": {
     "base_uri": "https://localhost:8080/",
     "height": 34
    },
    "executionInfo": {
     "elapsed": 1160,
     "status": "ok",
     "timestamp": 1741664737646,
     "user": {
      "displayName": "Jana Valenzuela",
      "userId": "18136291129253590497"
     },
     "user_tz": -480
    },
    "id": "p_9nEwPiIk9R",
    "outputId": "f4f5ebbd-460d-47ad-ade3-72625a8a71b4",
    "vscode": {
     "languageId": "r"
    }
   },
   "outputs": [
    {
     "data": {
      "text/html": [
       "<style>\n",
       ".list-inline {list-style: none; margin:0; padding: 0}\n",
       ".list-inline>li {display: inline-block}\n",
       ".list-inline>li:not(:last-child)::after {content: \"\\00b7\"; padding: 0 .5ex}\n",
       "</style>\n",
       "<ol class=list-inline><li>5767</li><li>7269</li></ol>\n"
      ],
      "text/latex": [
       "\\begin{enumerate*}\n",
       "\\item 5767\n",
       "\\item 7269\n",
       "\\end{enumerate*}\n"
      ],
      "text/markdown": [
       "1. 5767\n",
       "2. 7269\n",
       "\n",
       "\n"
      ],
      "text/plain": [
       "[1] 5767 7269"
      ]
     },
     "metadata": {},
     "output_type": "display_data"
    }
   ],
   "source": [
    "# Set up collaborative filtering\n",
    "rating_matrix <- as(filtered_ratings %>% select(`User-ID`, isbn_numeric, `Book-Rating`), \"realRatingMatrix\")\n",
    "dim(rating_matrix)"
   ]
  },
  {
   "cell_type": "code",
   "execution_count": 9,
   "metadata": {
    "colab": {
     "base_uri": "https://localhost:8080/",
     "height": 549
    },
    "executionInfo": {
     "elapsed": 3331,
     "status": "ok",
     "timestamp": 1741664742736,
     "user": {
      "displayName": "Jana Valenzuela",
      "userId": "18136291129253590497"
     },
     "user_tz": -480
    },
    "id": "7OySU2hlL1Wb",
    "outputId": "9daa463e-ad2d-4369-c4ed-31cae59eb36a",
    "vscode": {
     "languageId": "r"
    }
   },
   "outputs": [
    {
     "data": {
      "text/html": [
       "<table class=\"dataframe\">\n",
       "<caption>A data.table: 6 × 11</caption>\n",
       "<thead>\n",
       "\t<tr><th scope=col>User-ID</th><th scope=col>ISBN</th><th scope=col>Book-Rating</th><th scope=col>Book-Title</th><th scope=col>Book-Author</th><th scope=col>Year-Of-Publication</th><th scope=col>Publisher</th><th scope=col>Image-URL-S</th><th scope=col>Image-URL-M</th><th scope=col>Image-URL-L</th><th scope=col>Age</th></tr>\n",
       "\t<tr><th scope=col>&lt;int&gt;</th><th scope=col>&lt;chr&gt;</th><th scope=col>&lt;int&gt;</th><th scope=col>&lt;chr&gt;</th><th scope=col>&lt;chr&gt;</th><th scope=col>&lt;chr&gt;</th><th scope=col>&lt;chr&gt;</th><th scope=col>&lt;chr&gt;</th><th scope=col>&lt;chr&gt;</th><th scope=col>&lt;chr&gt;</th><th scope=col>&lt;dbl&gt;</th></tr>\n",
       "</thead>\n",
       "<tbody>\n",
       "\t<tr><td>276725</td><td>034545104X</td><td>0</td><td>Flesh Tones: A Novel                                          </td><td>M. J. Rose        </td><td>2002</td><td>Ballantine Books          </td><td>http://images.amazon.com/images/P/034545104X.01.THUMBZZZ.jpg</td><td>http://images.amazon.com/images/P/034545104X.01.MZZZZZZZ.jpg</td><td>http://images.amazon.com/images/P/034545104X.01.LZZZZZZZ.jpg</td><td>NA</td></tr>\n",
       "\t<tr><td>276726</td><td>0155061224</td><td>5</td><td>Rites of Passage                                              </td><td>Judith Rae        </td><td>2001</td><td>Heinle                    </td><td>http://images.amazon.com/images/P/0155061224.01.THUMBZZZ.jpg</td><td>http://images.amazon.com/images/P/0155061224.01.MZZZZZZZ.jpg</td><td>http://images.amazon.com/images/P/0155061224.01.LZZZZZZZ.jpg</td><td>NA</td></tr>\n",
       "\t<tr><td>276727</td><td>0446520802</td><td>0</td><td>The Notebook                                                  </td><td>Nicholas Sparks   </td><td>1996</td><td>Warner Books              </td><td>http://images.amazon.com/images/P/0446520802.01.THUMBZZZ.jpg</td><td>http://images.amazon.com/images/P/0446520802.01.MZZZZZZZ.jpg</td><td>http://images.amazon.com/images/P/0446520802.01.LZZZZZZZ.jpg</td><td>16</td></tr>\n",
       "\t<tr><td>276729</td><td>052165615X</td><td>3</td><td>Help!: Level 1                                                </td><td>Philip Prowse     </td><td>1999</td><td>Cambridge University Press</td><td>http://images.amazon.com/images/P/052165615X.01.THUMBZZZ.jpg</td><td>http://images.amazon.com/images/P/052165615X.01.MZZZZZZZ.jpg</td><td>http://images.amazon.com/images/P/052165615X.01.LZZZZZZZ.jpg</td><td>16</td></tr>\n",
       "\t<tr><td>276729</td><td>0521795028</td><td>6</td><td>The Amsterdam Connection : Level 4 (Cambridge English Readers)</td><td>Sue Leather       </td><td>2001</td><td>Cambridge University Press</td><td>http://images.amazon.com/images/P/0521795028.01.THUMBZZZ.jpg</td><td>http://images.amazon.com/images/P/0521795028.01.MZZZZZZZ.jpg</td><td>http://images.amazon.com/images/P/0521795028.01.LZZZZZZZ.jpg</td><td>16</td></tr>\n",
       "\t<tr><td>276733</td><td>2080674722</td><td>0</td><td>Les Particules Elementaires                                   </td><td>Michel Houellebecq</td><td>1998</td><td>Flammarion                </td><td>http://images.amazon.com/images/P/2080674722.01.THUMBZZZ.jpg</td><td>http://images.amazon.com/images/P/2080674722.01.MZZZZZZZ.jpg</td><td>http://images.amazon.com/images/P/2080674722.01.LZZZZZZZ.jpg</td><td>37</td></tr>\n",
       "</tbody>\n",
       "</table>\n"
      ],
      "text/latex": [
       "A data.table: 6 × 11\n",
       "\\begin{tabular}{lllllllllll}\n",
       " User-ID & ISBN & Book-Rating & Book-Title & Book-Author & Year-Of-Publication & Publisher & Image-URL-S & Image-URL-M & Image-URL-L & Age\\\\\n",
       " <int> & <chr> & <int> & <chr> & <chr> & <chr> & <chr> & <chr> & <chr> & <chr> & <dbl>\\\\\n",
       "\\hline\n",
       "\t 276725 & 034545104X & 0 & Flesh Tones: A Novel                                           & M. J. Rose         & 2002 & Ballantine Books           & http://images.amazon.com/images/P/034545104X.01.THUMBZZZ.jpg & http://images.amazon.com/images/P/034545104X.01.MZZZZZZZ.jpg & http://images.amazon.com/images/P/034545104X.01.LZZZZZZZ.jpg & NA\\\\\n",
       "\t 276726 & 0155061224 & 5 & Rites of Passage                                               & Judith Rae         & 2001 & Heinle                     & http://images.amazon.com/images/P/0155061224.01.THUMBZZZ.jpg & http://images.amazon.com/images/P/0155061224.01.MZZZZZZZ.jpg & http://images.amazon.com/images/P/0155061224.01.LZZZZZZZ.jpg & NA\\\\\n",
       "\t 276727 & 0446520802 & 0 & The Notebook                                                   & Nicholas Sparks    & 1996 & Warner Books               & http://images.amazon.com/images/P/0446520802.01.THUMBZZZ.jpg & http://images.amazon.com/images/P/0446520802.01.MZZZZZZZ.jpg & http://images.amazon.com/images/P/0446520802.01.LZZZZZZZ.jpg & 16\\\\\n",
       "\t 276729 & 052165615X & 3 & Help!: Level 1                                                 & Philip Prowse      & 1999 & Cambridge University Press & http://images.amazon.com/images/P/052165615X.01.THUMBZZZ.jpg & http://images.amazon.com/images/P/052165615X.01.MZZZZZZZ.jpg & http://images.amazon.com/images/P/052165615X.01.LZZZZZZZ.jpg & 16\\\\\n",
       "\t 276729 & 0521795028 & 6 & The Amsterdam Connection : Level 4 (Cambridge English Readers) & Sue Leather        & 2001 & Cambridge University Press & http://images.amazon.com/images/P/0521795028.01.THUMBZZZ.jpg & http://images.amazon.com/images/P/0521795028.01.MZZZZZZZ.jpg & http://images.amazon.com/images/P/0521795028.01.LZZZZZZZ.jpg & 16\\\\\n",
       "\t 276733 & 2080674722 & 0 & Les Particules Elementaires                                    & Michel Houellebecq & 1998 & Flammarion                 & http://images.amazon.com/images/P/2080674722.01.THUMBZZZ.jpg & http://images.amazon.com/images/P/2080674722.01.MZZZZZZZ.jpg & http://images.amazon.com/images/P/2080674722.01.LZZZZZZZ.jpg & 37\\\\\n",
       "\\end{tabular}\n"
      ],
      "text/markdown": [
       "\n",
       "A data.table: 6 × 11\n",
       "\n",
       "| User-ID &lt;int&gt; | ISBN &lt;chr&gt; | Book-Rating &lt;int&gt; | Book-Title &lt;chr&gt; | Book-Author &lt;chr&gt; | Year-Of-Publication &lt;chr&gt; | Publisher &lt;chr&gt; | Image-URL-S &lt;chr&gt; | Image-URL-M &lt;chr&gt; | Image-URL-L &lt;chr&gt; | Age &lt;dbl&gt; |\n",
       "|---|---|---|---|---|---|---|---|---|---|---|\n",
       "| 276725 | 034545104X | 0 | Flesh Tones: A Novel                                           | M. J. Rose         | 2002 | Ballantine Books           | http://images.amazon.com/images/P/034545104X.01.THUMBZZZ.jpg | http://images.amazon.com/images/P/034545104X.01.MZZZZZZZ.jpg | http://images.amazon.com/images/P/034545104X.01.LZZZZZZZ.jpg | NA |\n",
       "| 276726 | 0155061224 | 5 | Rites of Passage                                               | Judith Rae         | 2001 | Heinle                     | http://images.amazon.com/images/P/0155061224.01.THUMBZZZ.jpg | http://images.amazon.com/images/P/0155061224.01.MZZZZZZZ.jpg | http://images.amazon.com/images/P/0155061224.01.LZZZZZZZ.jpg | NA |\n",
       "| 276727 | 0446520802 | 0 | The Notebook                                                   | Nicholas Sparks    | 1996 | Warner Books               | http://images.amazon.com/images/P/0446520802.01.THUMBZZZ.jpg | http://images.amazon.com/images/P/0446520802.01.MZZZZZZZ.jpg | http://images.amazon.com/images/P/0446520802.01.LZZZZZZZ.jpg | 16 |\n",
       "| 276729 | 052165615X | 3 | Help!: Level 1                                                 | Philip Prowse      | 1999 | Cambridge University Press | http://images.amazon.com/images/P/052165615X.01.THUMBZZZ.jpg | http://images.amazon.com/images/P/052165615X.01.MZZZZZZZ.jpg | http://images.amazon.com/images/P/052165615X.01.LZZZZZZZ.jpg | 16 |\n",
       "| 276729 | 0521795028 | 6 | The Amsterdam Connection : Level 4 (Cambridge English Readers) | Sue Leather        | 2001 | Cambridge University Press | http://images.amazon.com/images/P/0521795028.01.THUMBZZZ.jpg | http://images.amazon.com/images/P/0521795028.01.MZZZZZZZ.jpg | http://images.amazon.com/images/P/0521795028.01.LZZZZZZZ.jpg | 16 |\n",
       "| 276733 | 2080674722 | 0 | Les Particules Elementaires                                    | Michel Houellebecq | 1998 | Flammarion                 | http://images.amazon.com/images/P/2080674722.01.THUMBZZZ.jpg | http://images.amazon.com/images/P/2080674722.01.MZZZZZZZ.jpg | http://images.amazon.com/images/P/2080674722.01.LZZZZZZZ.jpg | 37 |\n",
       "\n"
      ],
      "text/plain": [
       "  User-ID ISBN       Book-Rating\n",
       "1 276725  034545104X 0          \n",
       "2 276726  0155061224 5          \n",
       "3 276727  0446520802 0          \n",
       "4 276729  052165615X 3          \n",
       "5 276729  0521795028 6          \n",
       "6 276733  2080674722 0          \n",
       "  Book-Title                                                    \n",
       "1 Flesh Tones: A Novel                                          \n",
       "2 Rites of Passage                                              \n",
       "3 The Notebook                                                  \n",
       "4 Help!: Level 1                                                \n",
       "5 The Amsterdam Connection : Level 4 (Cambridge English Readers)\n",
       "6 Les Particules Elementaires                                   \n",
       "  Book-Author        Year-Of-Publication Publisher                 \n",
       "1 M. J. Rose         2002                Ballantine Books          \n",
       "2 Judith Rae         2001                Heinle                    \n",
       "3 Nicholas Sparks    1996                Warner Books              \n",
       "4 Philip Prowse      1999                Cambridge University Press\n",
       "5 Sue Leather        2001                Cambridge University Press\n",
       "6 Michel Houellebecq 1998                Flammarion                \n",
       "  Image-URL-S                                                 \n",
       "1 http://images.amazon.com/images/P/034545104X.01.THUMBZZZ.jpg\n",
       "2 http://images.amazon.com/images/P/0155061224.01.THUMBZZZ.jpg\n",
       "3 http://images.amazon.com/images/P/0446520802.01.THUMBZZZ.jpg\n",
       "4 http://images.amazon.com/images/P/052165615X.01.THUMBZZZ.jpg\n",
       "5 http://images.amazon.com/images/P/0521795028.01.THUMBZZZ.jpg\n",
       "6 http://images.amazon.com/images/P/2080674722.01.THUMBZZZ.jpg\n",
       "  Image-URL-M                                                 \n",
       "1 http://images.amazon.com/images/P/034545104X.01.MZZZZZZZ.jpg\n",
       "2 http://images.amazon.com/images/P/0155061224.01.MZZZZZZZ.jpg\n",
       "3 http://images.amazon.com/images/P/0446520802.01.MZZZZZZZ.jpg\n",
       "4 http://images.amazon.com/images/P/052165615X.01.MZZZZZZZ.jpg\n",
       "5 http://images.amazon.com/images/P/0521795028.01.MZZZZZZZ.jpg\n",
       "6 http://images.amazon.com/images/P/2080674722.01.MZZZZZZZ.jpg\n",
       "  Image-URL-L                                                  Age\n",
       "1 http://images.amazon.com/images/P/034545104X.01.LZZZZZZZ.jpg NA \n",
       "2 http://images.amazon.com/images/P/0155061224.01.LZZZZZZZ.jpg NA \n",
       "3 http://images.amazon.com/images/P/0446520802.01.LZZZZZZZ.jpg 16 \n",
       "4 http://images.amazon.com/images/P/052165615X.01.LZZZZZZZ.jpg 16 \n",
       "5 http://images.amazon.com/images/P/0521795028.01.LZZZZZZZ.jpg 16 \n",
       "6 http://images.amazon.com/images/P/2080674722.01.LZZZZZZZ.jpg 37 "
      ]
     },
     "metadata": {},
     "output_type": "display_data"
    }
   ],
   "source": [
    "# Merge the 3 datasets using ISBN and User-ID\n",
    "books <- books %>% select(ISBN, `Book-Title`, `Book-Author`, `Year-Of-Publication`, Publisher,`Image-URL-S`, `Image-URL-M`, `Image-URL-L`)\n",
    "ratings <- ratings %>% select(`User-ID`, ISBN, `Book-Rating`)\n",
    "users <- users %>% select(`User-ID`, Age)\n",
    "\n",
    "ratings_books <- inner_join(ratings, books, by = \"ISBN\")\n",
    "merged_data <- inner_join(ratings_books, users, by = \"User-ID\")\n",
    "head(merged_data)"
   ]
  },
  {
   "cell_type": "markdown",
   "metadata": {
    "id": "vwSTURzTBsAg"
   },
   "source": [
    "## Exploratory Data Analysis (EDA)"
   ]
  },
  {
   "cell_type": "code",
   "execution_count": 10,
   "metadata": {
    "colab": {
     "base_uri": "https://localhost:8080/",
     "height": 437
    },
    "executionInfo": {
     "elapsed": 6095,
     "status": "ok",
     "timestamp": 1741664751941,
     "user": {
      "displayName": "Jana Valenzuela",
      "userId": "18136291129253590497"
     },
     "user_tz": -480
    },
    "id": "dwb4aKqyB071",
    "outputId": "acb96c0a-b727-42a6-f7a0-179ce27f3d2e",
    "vscode": {
     "languageId": "r"
    }
   },
   "outputs": [
    {
     "data": {
      "image/png": "[encoded data removed]",
      "text/plain": [
       "plot without title"
      ]
     },
     "metadata": {
      "image/png": {
       "height": 420,
       "width": 420
      }
     },
     "output_type": "display_data"
    }
   ],
   "source": [
    "# Most rated books\n",
    "top_books <- ratings %>%\n",
    "  group_by(ISBN) %>%\n",
    "  summarize(count = n()) %>%\n",
    "  inner_join(books, by = \"ISBN\") %>%\n",
    "  arrange(desc(count))\n",
    "\n",
    "ggplot(top_books[1:10,], aes(x = reorder(`Book-Title`, -count), y = count)) +\n",
    "  geom_bar(stat = \"identity\", fill = \"red\") +\n",
    "  coord_flip() +\n",
    "  labs(title = \"Top 10 Most Rated Books\", x = \"Book Title\", y = \"Number of Ratings\") +\n",
    "  theme_minimal()"
   ]
  },
  {
   "cell_type": "code",
   "execution_count": 11,
   "metadata": {
    "colab": {
     "base_uri": "https://localhost:8080/",
     "height": 437
    },
    "executionInfo": {
     "elapsed": 1960,
     "status": "ok",
     "timestamp": 1741664771006,
     "user": {
      "displayName": "Jana Valenzuela",
      "userId": "18136291129253590497"
     },
     "user_tz": -480
    },
    "id": "yU-5ye3ELGUU",
    "outputId": "807573f2-8d36-4932-cefc-2e6bc0d7f959",
    "vscode": {
     "languageId": "r"
    }
   },
   "outputs": [
    {
     "data": {
      "image/png": "[encoded data removed]",
      "text/plain": [
       "plot without title"
      ]
     },
     "metadata": {
      "image/png": {
       "height": 420,
       "width": 420
      }
     },
     "output_type": "display_data"
    }
   ],
   "source": [
    "# Distribution of book ratings\n",
    "ggplot(ratings, aes(x = `Book-Rating`)) +\n",
    "  geom_bar(fill = \"orange\") +\n",
    "  labs(title = \"Distribution of Book Ratings\", x = \"Rating\", y = \"Count\") +\n",
    "  theme_minimal()"
   ]
  },
  {
   "cell_type": "code",
   "execution_count": 12,
   "metadata": {
    "colab": {
     "base_uri": "https://localhost:8080/",
     "height": 437
    },
    "executionInfo": {
     "elapsed": 4379,
     "status": "ok",
     "timestamp": 1741665556836,
     "user": {
      "displayName": "Jana Valenzuela",
      "userId": "18136291129253590497"
     },
     "user_tz": -480
    },
    "id": "Yqiba81LLMS6",
    "outputId": "fc4556d8-ba5e-48c5-8922-4ded79ce4b76",
    "vscode": {
     "languageId": "r"
    }
   },
   "outputs": [
    {
     "data": {
      "image/png": "[encoded data removed]",
      "text/plain": [
       "plot without title"
      ]
     },
     "metadata": {
      "image/png": {
       "height": 420,
       "width": 420
      }
     },
     "output_type": "display_data"
    }
   ],
   "source": [
    "# Top authors by number of ratings\n",
    "top_authors <- books %>%\n",
    "  inner_join(ratings, by = \"ISBN\") %>%\n",
    "  group_by(`Book-Author`) %>%\n",
    "  summarise(total_ratings = n()) %>%\n",
    "  arrange(desc(total_ratings)) %>%\n",
    "  head(10)\n",
    "\n",
    "ggplot(top_authors, aes(x = reorder(`Book-Author`, total_ratings), y = total_ratings)) +\n",
    "  geom_bar(stat = \"identity\", fill = \"yellow\") +\n",
    "  coord_flip() +\n",
    "  labs(title = \"Top 10 Authors by Number of Ratings\", x = \"Author\", y = \"Total Ratings\") +\n",
    "  theme_minimal()"
   ]
  },
  {
   "cell_type": "code",
   "execution_count": 13,
   "metadata": {
    "colab": {
     "base_uri": "https://localhost:8080/",
     "height": 437
    },
    "executionInfo": {
     "elapsed": 9616,
     "status": "ok",
     "timestamp": 1741665577909,
     "user": {
      "displayName": "Jana Valenzuela",
      "userId": "18136291129253590497"
     },
     "user_tz": -480
    },
    "id": "ehIg-glvLRSN",
    "outputId": "18302af3-f3cb-408e-875f-9a65155816c6",
    "vscode": {
     "languageId": "r"
    }
   },
   "outputs": [
    {
     "data": {
      "image/png": "[encoded data removed]",
      "text/plain": [
       "plot without title"
      ]
     },
     "metadata": {
      "image/png": {
       "height": 420,
       "width": 420
      }
     },
     "output_type": "display_data"
    }
   ],
   "source": [
    "# Top books by averge rating\n",
    "popular_books <- ratings %>%\n",
    "  group_by(ISBN) %>%\n",
    "  summarise(avg_rating = mean(`Book-Rating`), rating_count = n()) %>%\n",
    "  filter(rating_count >= 50) %>%\n",
    "  arrange(desc(avg_rating)) %>%\n",
    "  inner_join(books, by = \"ISBN\") %>%\n",
    "  select(`Book-Title`, `Book-Author`, avg_rating, rating_count) %>%\n",
    "  head(10)\n",
    "\n",
    "ggplot(popular_books, aes(x = reorder(`Book-Title`, avg_rating), y = avg_rating)) +\n",
    "  geom_col(fill = \"green\") +\n",
    "  coord_flip() +\n",
    "  labs(title = \"Top 10 Books by Average Rating (Min. 50 Ratings)\", x = \"Book\", y = \"Avg Rating\") +\n",
    "  theme_minimal()\n"
   ]
  },
  {
   "cell_type": "code",
   "execution_count": 14,
   "metadata": {
    "colab": {
     "base_uri": "https://localhost:8080/",
     "height": 437
    },
    "executionInfo": {
     "elapsed": 1581,
     "status": "ok",
     "timestamp": 1741665581396,
     "user": {
      "displayName": "Jana Valenzuela",
      "userId": "18136291129253590497"
     },
     "user_tz": -480
    },
    "id": "1aOodlzRLbzh",
    "outputId": "d5b9461a-d1b5-4ca7-87af-0eb660d90aeb",
    "vscode": {
     "languageId": "r"
    }
   },
   "outputs": [
    {
     "data": {
      "image/png": "[encoded data removed]",
      "text/plain": [
       "plot without title"
      ]
     },
     "metadata": {
      "image/png": {
       "height": 420,
       "width": 420
      }
     },
     "output_type": "display_data"
    }
   ],
   "source": [
    "# Top users by number of ratings\n",
    "top_users <- ratings %>%\n",
    "  group_by(`User-ID`) %>%\n",
    "  summarise(rating_count = n()) %>%\n",
    "  arrange(desc(rating_count)) %>%\n",
    "  head(10)\n",
    "\n",
    "ggplot(top_users, aes(x = reorder(`User-ID`, rating_count), y = rating_count)) +\n",
    "  geom_bar(stat = \"identity\", fill = \"blue\") +\n",
    "  coord_flip() +\n",
    "  labs(title = \"Top 10 Users by Number of Ratings\", x = \"User ID\", y = \"Number of Ratings\") +\n",
    "  theme_minimal()\n"
   ]
  },
  {
   "cell_type": "code",
   "execution_count": 15,
   "metadata": {
    "colab": {
     "base_uri": "https://localhost:8080/",
     "height": 489
    },
    "executionInfo": {
     "elapsed": 499,
     "status": "ok",
     "timestamp": 1741665584168,
     "user": {
      "displayName": "Jana Valenzuela",
      "userId": "18136291129253590497"
     },
     "user_tz": -480
    },
    "id": "Lzd8_mkgLes9",
    "outputId": "adb08388-6883-498f-959e-dfd2c01a6a87",
    "vscode": {
     "languageId": "r"
    }
   },
   "outputs": [
    {
     "name": "stderr",
     "output_type": "stream",
     "text": [
      "Warning message:\n",
      "\"\u001b[1m\u001b[22mRemoved 110762 rows containing non-finite outside the scale range\n",
      "(`stat_bin()`).\"\n"
     ]
    },
    {
     "data": {
      "image/png": "[encoded data removed]",
      "text/plain": [
       "plot without title"
      ]
     },
     "metadata": {
      "image/png": {
       "height": 420,
       "width": 420
      }
     },
     "output_type": "display_data"
    }
   ],
   "source": [
    "# Age distribution\n",
    "ggplot(users, aes(x = Age)) +\n",
    "  geom_histogram(binwidth = 5, fill = \"purple\", color = \"black\") +\n",
    "  labs(title = \"Distribution of User Ages\", x = \"Age\", y = \"Number of Users\") +\n",
    "  theme_minimal()"
   ]
  },
  {
   "cell_type": "markdown",
   "metadata": {
    "id": "Z5TMdtsxB1_J"
   },
   "source": [
    "## Recommender System"
   ]
  },
  {
   "cell_type": "code",
   "execution_count": 16,
   "metadata": {
    "vscode": {
     "languageId": "r"
    }
   },
   "outputs": [],
   "source": [
    "# rating_matrix <- filtered_ratings %>%\n",
    "#   select(`User-ID`, isbn_numeric, `Book-Rating`) %>%\n",
    "#   pivot_wider(names_from = isbn_numeric, values_from = `Book-Rating`, values_fill = list(`Book-Rating` = NA))\n",
    "\n",
    "# rownames(rating_matrix) <- rating_matrix$`User-ID`  \n",
    "# rating_matrix$`User-ID` <- NULL\n",
    "\n",
    "# rating_matrix <- as(as.matrix(rating_matrix), \"realRatingMatrix\")"
   ]
  },
  {
   "cell_type": "code",
   "execution_count": 17,
   "metadata": {
    "colab": {
     "base_uri": "https://localhost:8080/"
    },
    "executionInfo": {
     "elapsed": 79,
     "status": "ok",
     "timestamp": 1741665586403,
     "user": {
      "displayName": "Jana Valenzuela",
      "userId": "18136291129253590497"
     },
     "user_tz": -480
    },
    "id": "rsxItq8FB33Z",
    "outputId": "e48299cd-cba9-47e9-9046-33afbf26c984",
    "vscode": {
     "languageId": "r"
    }
   },
   "outputs": [
    {
     "name": "stdout",
     "output_type": "stream",
     "text": [
      "Recommender of type 'UBCF' for 'realRatingMatrix' \n",
      "learned using 5767 users.\n"
     ]
    }
   ],
   "source": [
    "# User-based collaborative filtering\n",
    "recommender_model <- Recommender(rating_matrix, method = \"UBCF\")\n",
    "print(recommender_model)"
   ]
  },
  {
   "cell_type": "markdown",
   "metadata": {
    "id": "-wJBU8lNB9-f"
   },
   "source": [
    "## Make Predictions"
   ]
  },
  {
   "cell_type": "code",
   "execution_count": 18,
   "metadata": {
    "vscode": {
     "languageId": "r"
    }
   },
   "outputs": [],
   "source": [
    "# print(summary(colCounts(rating_matrix)))"
   ]
  },
  {
   "cell_type": "code",
   "execution_count": 22,
   "metadata": {
    "colab": {
     "base_uri": "https://localhost:8080/"
    },
    "executionInfo": {
     "elapsed": 35332,
     "status": "ok",
     "timestamp": 1741665623883,
     "user": {
      "displayName": "Jana Valenzuela",
      "userId": "18136291129253590497"
     },
     "user_tz": -480
    },
    "id": "RYkePPAfB_jg",
    "outputId": "133d51c6-5aeb-4202-a3dc-35f04d8b5dbb",
    "vscode": {
     "languageId": "r"
    }
   },
   "outputs": [
    {
     "name": "stdout",
     "output_type": "stream",
     "text": [
      "Recommendations as 'topNList' with n = 5 for 1 users. \n",
      "Empty data.table (0 rows and 3 cols): Book-Title,Book-Author,Publisher\n"
     ]
    }
   ],
   "source": [
    "user_id <- 2911\n",
    "\n",
    "predictions <- predict(recommender_model, rating_matrix[user_id, ], n = 5, type = \"topNList\")\n",
    "print(predictions)\n",
    "\n",
    "recommended_books <- as(predictions, \"list\")[[1]]  # Extract recommendations\n",
    "\n",
    "# Ensure ISBNs are characters for comparison\n",
    "books$isbn_numeric <- as.character(books$isbn_numeric)\n",
    "recommended_books <- as.character(recommended_books)\n",
    "\n",
    "# Fetch recommended book details\n",
    "recommended_books_df <- books %>%\n",
    "  filter(isbn_numeric %in% recommended_books) %>%\n",
    "  select(`Book-Title`, `Book-Author`, Publisher)\n",
    "\n",
    "print(recommended_books_df)"
   ]
  },
  {
   "cell_type": "markdown",
   "metadata": {
    "id": "IhQVW4zBCCAF"
   },
   "source": [
    "## Evaluation"
   ]
  },
  {
   "cell_type": "code",
   "execution_count": 20,
   "metadata": {
    "executionInfo": {
     "elapsed": 631,
     "status": "ok",
     "timestamp": 1741665706779,
     "user": {
      "displayName": "Jana Valenzuela",
      "userId": "18136291129253590497"
     },
     "user_tz": -480
    },
    "id": "2CWQuLYCCDYc",
    "vscode": {
     "languageId": "r"
    }
   },
   "outputs": [],
   "source": [
    "set.seed(123)\n",
    "train_index <- sample(seq_len(nrow(ratings)), size = 0.8 * nrow(ratings))\n",
    "train_data <- ratings[train_index, ]\n",
    "test_data <- ratings[-train_index, ]\n",
    "\n",
    "test_data <- test_data %>%\n",
    "  filter(ISBN %in% train_data$ISBN)\n",
    "\n",
    "test_data$`User-ID` <- as.factor(test_data$`User-ID`)\n",
    "test_data$isbn_numeric <- as.numeric(factor(test_data$ISBN, levels = unique(train_data$ISBN)))"
   ]
  },
  {
   "cell_type": "code",
   "execution_count": null,
   "metadata": {
    "vscode": {
     "languageId": "r"
    }
   },
   "outputs": [],
   "source": [
    "test_predictions <- predict(recommender_model, rating_matrix[user_id, ], type = \"ratings\")"
   ]
  },
  {
   "cell_type": "code",
   "execution_count": null,
   "metadata": {
    "executionInfo": {
     "elapsed": 526,
     "status": "ok",
     "timestamp": 1741665711016,
     "user": {
      "displayName": "Jana Valenzuela",
      "userId": "18136291129253590497"
     },
     "user_tz": -480
    },
    "id": "LeW7H6d-c9Ae",
    "vscode": {
     "languageId": "r"
    }
   },
   "outputs": [],
   "source": [
    "test_matrix <- as(test_data %>% select(`User-ID`, isbn_numeric, `Book-Rating`), \"realRatingMatrix\")"
   ]
  },
  {
   "cell_type": "code",
   "execution_count": null,
   "metadata": {
    "colab": {
     "base_uri": "https://localhost:8080/"
    },
    "id": "ccCjHDWxdhUo",
    "outputId": "68844771-2954-496a-b768-2bf609e475c9",
    "vscode": {
     "languageId": "r"
    }
   },
   "outputs": [],
   "source": [
    "actual_ratings <- as.numeric(as(test_matrix, \"matrix\"))\n",
    "predicted_ratings <- as.numeric(as(test_predictions, \"matrix\"))"
   ]
  },
  {
   "cell_type": "markdown",
   "metadata": {
    "id": "T4RhyfB_opQ-"
   },
   "source": [
    "### RMSE"
   ]
  },
  {
   "cell_type": "code",
   "execution_count": null,
   "metadata": {
    "id": "Ao5Wl7Drdj0S",
    "vscode": {
     "languageId": "r"
    }
   },
   "outputs": [],
   "source": [
    "rmse <- function(actual, predicted) {\n",
    "  sqrt(mean((actual - predicted) ^ 2))\n",
    "}\n",
    "\n",
    "rmse_value <- rmse(actual_ratings, predicted_ratings)\n",
    "rmse_value"
   ]
  },
  {
   "cell_type": "markdown",
   "metadata": {
    "id": "AsaiFoo2oqPw"
   },
   "source": [
    "### MAE"
   ]
  },
  {
   "cell_type": "code",
   "execution_count": null,
   "metadata": {
    "id": "z_5grhoyoky5",
    "vscode": {
     "languageId": "r"
    }
   },
   "outputs": [],
   "source": [
    "mae <- function(actual, predicted) {\n",
    "  mean(abs(actual - predicted))\n",
    "}\n",
    "\n",
    "mae_value <- mae(actual_ratings, predicted_ratings)\n",
    "mae_value"
   ]
  },
  {
   "cell_type": "markdown",
   "metadata": {
    "id": "yULAj6AworHd"
   },
   "source": [
    "### Hit Rate"
   ]
  },
  {
   "cell_type": "code",
   "execution_count": null,
   "metadata": {
    "id": "IF_gYMBXosni",
    "vscode": {
     "languageId": "r"
    }
   },
   "outputs": [],
   "source": [
    "hit_rate <- function(predictions, actual, top_n = 5) {\n",
    "  hits <- 0\n",
    "  total_users <- length(actual)\n",
    "\n",
    "  for (i in seq_len(total_users)) {\n",
    "    if (actual[i] %in% predictions[[i]][1:top_n]) {\n",
    "      hits <- hits + 1\n",
    "    }\n",
    "  }\n",
    "\n",
    "  return(hits / total_users)\n",
    "}\n",
    "\n",
    "test_top_n <- predict(recommender_model, test_matrix, n = 5, type = \"topNList\")\n",
    "hit_rate_value <- hit_rate(as(test_top_n, \"list\"), actual_ratings, top_n = 5)\n",
    "hit_rate_value"
   ]
  }
 ],
 "metadata": {
  "colab": {
   "authorship_tag": "ABX9TyP3GcBvxxxbKynFaOH+wfeS",
   "provenance": []
  },
  "kernelspec": {
   "display_name": "R",
   "language": "R",
   "name": "ir"
  },
  "language_info": {
   "codemirror_mode": "r",
   "file_extension": ".r",
   "mimetype": "text/x-r-source",
   "name": "R",
   "pygments_lexer": "r",
   "version": "4.4.2"
  }
 },
 "nbformat": 4,
 "nbformat_minor": 0
}
